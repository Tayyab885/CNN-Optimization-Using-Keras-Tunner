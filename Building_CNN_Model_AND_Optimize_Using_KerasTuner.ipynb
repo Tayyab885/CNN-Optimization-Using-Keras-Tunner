{
  "nbformat": 4,
  "nbformat_minor": 0,
  "metadata": {
    "colab": {
      "provenance": [],
      "gpuType": "T4"
    },
    "kernelspec": {
      "name": "python3",
      "display_name": "Python 3"
    },
    "language_info": {
      "name": "python"
    },
    "accelerator": "GPU",
    "gpuClass": "standard"
  },
  "cells": [
    {
      "cell_type": "code",
      "source": [
        "import tensorflow as tf\n",
        "from tensorflow import keras\n",
        "import numpy as np"
      ],
      "metadata": {
        "id": "ReEBM5gBzBbV"
      },
      "execution_count": null,
      "outputs": []
    },
    {
      "cell_type": "code",
      "source": [
        "fashion_mnist_data = keras.datasets.fashion_mnist"
      ],
      "metadata": {
        "id": "_GReLY7YzxJt"
      },
      "execution_count": null,
      "outputs": []
    },
    {
      "cell_type": "code",
      "source": [
        "(train_images,train_labels),(test_images,test_labels) = fashion_mnist_data.load_data()"
      ],
      "metadata": {
        "colab": {
          "base_uri": "https://localhost:8080/"
        },
        "id": "aWdQBSSN0HyC",
        "outputId": "0cc04a41-6b6f-4341-f11c-cc897ad04ce7"
      },
      "execution_count": null,
      "outputs": [
        {
          "output_type": "stream",
          "name": "stdout",
          "text": [
            "Downloading data from https://storage.googleapis.com/tensorflow/tf-keras-datasets/train-labels-idx1-ubyte.gz\n",
            "29515/29515 [==============================] - 0s 1us/step\n",
            "Downloading data from https://storage.googleapis.com/tensorflow/tf-keras-datasets/train-images-idx3-ubyte.gz\n",
            "26421880/26421880 [==============================] - 3s 0us/step\n",
            "Downloading data from https://storage.googleapis.com/tensorflow/tf-keras-datasets/t10k-labels-idx1-ubyte.gz\n",
            "5148/5148 [==============================] - 0s 0us/step\n",
            "Downloading data from https://storage.googleapis.com/tensorflow/tf-keras-datasets/t10k-images-idx3-ubyte.gz\n",
            "4422102/4422102 [==============================] - 1s 0us/step\n"
          ]
        }
      ]
    },
    {
      "cell_type": "code",
      "source": [
        "train_images = train_images/255.0\n",
        "test_images = test_images/255.0"
      ],
      "metadata": {
        "id": "OnC8AIiG0TgV"
      },
      "execution_count": null,
      "outputs": []
    },
    {
      "cell_type": "code",
      "source": [
        "train_images[0].shape"
      ],
      "metadata": {
        "colab": {
          "base_uri": "https://localhost:8080/"
        },
        "id": "DUIX_YMA0mUc",
        "outputId": "a8586f25-1598-4485-ee5d-e5a753ac57c3"
      },
      "execution_count": null,
      "outputs": [
        {
          "output_type": "execute_result",
          "data": {
            "text/plain": [
              "(28, 28)"
            ]
          },
          "metadata": {},
          "execution_count": 5
        }
      ]
    },
    {
      "cell_type": "code",
      "source": [
        "train_images = train_images.reshape(len(train_images),28,28,1)\n",
        "test_images = test_images.reshape(len(test_images),28,28,1)"
      ],
      "metadata": {
        "id": "ixtIlGD009Z-"
      },
      "execution_count": null,
      "outputs": []
    },
    {
      "cell_type": "code",
      "source": [
        "train_images[0].shape"
      ],
      "metadata": {
        "colab": {
          "base_uri": "https://localhost:8080/"
        },
        "id": "L95gtg3A1Peo",
        "outputId": "d1257465-d063-4d5e-c197-877bbaf59418"
      },
      "execution_count": null,
      "outputs": [
        {
          "output_type": "execute_result",
          "data": {
            "text/plain": [
              "(28, 28, 1)"
            ]
          },
          "metadata": {},
          "execution_count": 7
        }
      ]
    },
    {
      "cell_type": "code",
      "source": [
        "from keras.engine.training import optimizer\n",
        "def build_model(hp):\n",
        "    model = keras.Sequential(\n",
        "        [\n",
        "            keras.layers.Conv2D(\n",
        "                filters = hp.Int('conv_1_filter',min_value=32,max_value=128,step=16),\n",
        "                kernel_size = hp.Choice('conv_1_kernel', values = [3,5]),\n",
        "                activation = 'relu',\n",
        "                input_shape = (28,28,1)\n",
        "            ),\n",
        "            keras.layers.Conv2D(\n",
        "                filters = hp.Int('conv_2_filter',min_value=32,max_value=64,step=16),\n",
        "                kernel_size = hp.Choice('conv_2_kernel', values = [3,5]),\n",
        "                activation = 'relu',\n",
        "            ),\n",
        "            keras.layers.Flatten(),\n",
        "            keras.layers.Dense(\n",
        "                units = hp.Int('dense_1_units',min_value=32,max_value=128,step=16),\n",
        "                activation = 'relu'\n",
        "         ),\n",
        "            keras.layers.Dense(10,activation='softmax')\n",
        "         \n",
        "        ]\n",
        "    )\n",
        "\n",
        "    model.compile(optimizer=keras.optimizers.Adam(hp.Choice('learning_rate',values=[1e-2,1e-3])),\n",
        "                loss = 'sparse_categorical_crossentropy',\n",
        "                metrics=['accuracy'])\n",
        "\n",
        "    return model\n"
      ],
      "metadata": {
        "id": "ApYbJC851RkH"
      },
      "execution_count": null,
      "outputs": []
    },
    {
      "cell_type": "code",
      "source": [
        "from keras_tuner import RandomSearch\n",
        "from keras_tuner.engine.hyperparameters import HyperParameters"
      ],
      "metadata": {
        "id": "1Tq-pk9N5eUD"
      },
      "execution_count": null,
      "outputs": []
    },
    {
      "cell_type": "code",
      "source": [
        "tunner_search =  RandomSearch(build_model,objective='val_accuracy',max_trials=5,directory='output',project_name='Mnist Fashion')"
      ],
      "metadata": {
        "id": "X8pm8prc5678"
      },
      "execution_count": null,
      "outputs": []
    },
    {
      "cell_type": "code",
      "source": [
        "tunner_search.search(train_images,train_labels,epochs=3,validation_split=0.1)"
      ],
      "metadata": {
        "colab": {
          "base_uri": "https://localhost:8080/"
        },
        "id": "x34e4sRg6e2p",
        "outputId": "483e2b87-5445-43a6-f4a6-bb661e9c2e6e"
      },
      "execution_count": null,
      "outputs": [
        {
          "output_type": "stream",
          "name": "stdout",
          "text": [
            "Trial 5 Complete [00h 00m 28s]\n",
            "val_accuracy: 0.9086666703224182\n",
            "\n",
            "Best val_accuracy So Far: 0.9086666703224182\n",
            "Total elapsed time: 00h 03m 03s\n"
          ]
        }
      ]
    },
    {
      "cell_type": "code",
      "source": [
        "model = tunner_search.get_best_models(num_models=1)[0]"
      ],
      "metadata": {
        "id": "v-dnWTE36tvH"
      },
      "execution_count": null,
      "outputs": []
    },
    {
      "cell_type": "code",
      "source": [
        "model.summary()"
      ],
      "metadata": {
        "colab": {
          "base_uri": "https://localhost:8080/"
        },
        "id": "_gm6OUVc8oRs",
        "outputId": "e525bb11-54c8-4e12-9563-2ac5cbfe34e7"
      },
      "execution_count": null,
      "outputs": [
        {
          "output_type": "stream",
          "name": "stdout",
          "text": [
            "Model: \"sequential\"\n",
            "_________________________________________________________________\n",
            " Layer (type)                Output Shape              Param #   \n",
            "=================================================================\n",
            " conv2d (Conv2D)             (None, 24, 24, 96)        2496      \n",
            "                                                                 \n",
            " conv2d_1 (Conv2D)           (None, 22, 22, 32)        27680     \n",
            "                                                                 \n",
            " flatten (Flatten)           (None, 15488)             0         \n",
            "                                                                 \n",
            " dense (Dense)               (None, 128)               1982592   \n",
            "                                                                 \n",
            " dense_1 (Dense)             (None, 10)                1290      \n",
            "                                                                 \n",
            "=================================================================\n",
            "Total params: 2,014,058\n",
            "Trainable params: 2,014,058\n",
            "Non-trainable params: 0\n",
            "_________________________________________________________________\n"
          ]
        }
      ]
    },
    {
      "cell_type": "code",
      "source": [
        "hist = model.fit(train_images,train_labels,epochs=10,validation_split=0.1, initial_epoch=3)"
      ],
      "metadata": {
        "colab": {
          "base_uri": "https://localhost:8080/"
        },
        "id": "nHOVxnmH8pZE",
        "outputId": "c3e92041-e25e-4d3f-ed63-68f78dc30d66"
      },
      "execution_count": null,
      "outputs": [
        {
          "output_type": "stream",
          "name": "stdout",
          "text": [
            "Epoch 4/10\n",
            "1688/1688 [==============================] - 10s 6ms/step - loss: 0.0282 - accuracy: 0.9899 - val_loss: 0.5311 - val_accuracy: 0.9097\n",
            "Epoch 5/10\n",
            "1688/1688 [==============================] - 8s 5ms/step - loss: 0.0255 - accuracy: 0.9914 - val_loss: 0.6154 - val_accuracy: 0.9085\n",
            "Epoch 6/10\n",
            "1688/1688 [==============================] - 8s 5ms/step - loss: 0.0256 - accuracy: 0.9914 - val_loss: 0.6269 - val_accuracy: 0.9080\n",
            "Epoch 7/10\n",
            "1688/1688 [==============================] - 9s 5ms/step - loss: 0.0218 - accuracy: 0.9924 - val_loss: 0.6588 - val_accuracy: 0.9073\n",
            "Epoch 8/10\n",
            "1688/1688 [==============================] - 8s 5ms/step - loss: 0.0204 - accuracy: 0.9930 - val_loss: 0.6644 - val_accuracy: 0.9098\n",
            "Epoch 9/10\n",
            "1688/1688 [==============================] - 9s 5ms/step - loss: 0.0199 - accuracy: 0.9930 - val_loss: 0.6688 - val_accuracy: 0.9067\n",
            "Epoch 10/10\n",
            "1688/1688 [==============================] - 9s 5ms/step - loss: 0.0168 - accuracy: 0.9938 - val_loss: 0.7020 - val_accuracy: 0.9083\n"
          ]
        }
      ]
    },
    {
      "cell_type": "code",
      "source": [
        "hist.history"
      ],
      "metadata": {
        "colab": {
          "base_uri": "https://localhost:8080/"
        },
        "id": "ozARLVwm9Fm3",
        "outputId": "6938e9de-3c13-4f49-d858-da13d58b1225"
      },
      "execution_count": null,
      "outputs": [
        {
          "output_type": "execute_result",
          "data": {
            "text/plain": [
              "{'loss': [0.028193844482302666,\n",
              "  0.025467492640018463,\n",
              "  0.025624487549066544,\n",
              "  0.021777475252747536,\n",
              "  0.0203570444136858,\n",
              "  0.01990676112473011,\n",
              "  0.016833242028951645],\n",
              " 'accuracy': [0.9899444580078125,\n",
              "  0.9913889169692993,\n",
              "  0.99144446849823,\n",
              "  0.992388904094696,\n",
              "  0.9930185079574585,\n",
              "  0.9929999709129333,\n",
              "  0.993759274482727],\n",
              " 'val_loss': [0.5310768485069275,\n",
              "  0.6153972148895264,\n",
              "  0.626894474029541,\n",
              "  0.6588225364685059,\n",
              "  0.6644212007522583,\n",
              "  0.6688163876533508,\n",
              "  0.7020035982131958],\n",
              " 'val_accuracy': [0.9096666574478149,\n",
              "  0.9085000157356262,\n",
              "  0.9079999923706055,\n",
              "  0.9073333144187927,\n",
              "  0.9098333120346069,\n",
              "  0.9066666960716248,\n",
              "  0.9083333611488342]}"
            ]
          },
          "metadata": {},
          "execution_count": 25
        }
      ]
    },
    {
      "cell_type": "code",
      "source": [
        "import matplotlib.pyplot as plt"
      ],
      "metadata": {
        "id": "JqKLvmk6-Uav"
      },
      "execution_count": null,
      "outputs": []
    },
    {
      "cell_type": "code",
      "source": [
        "fig = plt.figure()\n",
        "plt.plot(hist.history['loss'], color = 'teal', label = 'loss')\n",
        "plt.plot(hist.history['val_loss'], color = 'orange', label = 'val_loss')\n",
        "fig.suptitle('Loss',fontsize=18)\n",
        "fig.legend(loc='upper left')\n",
        "plt.show()"
      ],
      "metadata": {
        "colab": {
          "base_uri": "https://localhost:8080/",
          "height": 480
        },
        "id": "4lHX37qs9ggM",
        "outputId": "4c96ca0a-61c4-48a8-e3a6-b8d3146ee4c2"
      },
      "execution_count": null,
      "outputs": [
        {
          "output_type": "display_data",
          "data": {
            "text/plain": [
              "<Figure size 640x480 with 1 Axes>"
            ],
            "image/png": "[encoded data removed]"
          },
          "metadata": {}
        }
      ]
    },
    {
      "cell_type": "code",
      "source": [
        "fig = plt.figure()\n",
        "plt.plot(hist.history['accuracy'], color = 'teal', label = 'accuracy')\n",
        "plt.plot(hist.history['val_accuracy'], color = 'orange', label = 'val_accuracy')\n",
        "fig.suptitle('Accuracy',fontsize=18)\n",
        "fig.legend(loc='upper left')\n",
        "plt.show()"
      ],
      "metadata": {
        "colab": {
          "base_uri": "https://localhost:8080/",
          "height": 480
        },
        "id": "hxEzwvLj-S4v",
        "outputId": "c822535a-0417-4db8-96de-09c50cc3f538"
      },
      "execution_count": null,
      "outputs": [
        {
          "output_type": "display_data",
          "data": {
            "text/plain": [
              "<Figure size 640x480 with 1 Axes>"
            ],
            "image/png": "[encoded data removed]"
          },
          "metadata": {}
        }
      ]
    },
    {
      "cell_type": "code",
      "source": [],
      "metadata": {
        "id": "aY8_euYE-hC9"
      },
      "execution_count": null,
      "outputs": []
    }
  ]
}